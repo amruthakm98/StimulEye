{
  "nbformat": 4,
  "nbformat_minor": 0,
  "metadata": {
    "colab": {
      "name": "SplittingtoMultiplecsv.ipynb",
      "provenance": []
    },
    "kernelspec": {
      "name": "python3",
      "display_name": "Python 3"
    }
  },
  "cells": [
    {
      "cell_type": "code",
      "metadata": {
        "id": "fBfaaTYNHMFI",
        "colab_type": "code",
        "colab": {}
      },
      "source": [
        "import pandas as pd\n",
        "\n",
        "with open(\"RET-P42-eye_data Samples.txt\", \"r\") as f:\n",
        "    lines = f.readlines()\n",
        "\n",
        "with open(\"Result.txt\", \"w\") as f:\n",
        "    for line in lines:\n",
        "        if not \"##\" in line:\n",
        "            f.write(line)"
      ],
      "execution_count": null,
      "outputs": []
    },
    {
      "cell_type": "code",
      "metadata": {
        "id": "Nx0t-cuSK-_L",
        "colab_type": "code",
        "colab": {}
      },
      "source": [
        "df = pd.read_csv(\"Result.txt\",delimiter='\\t')\n",
        "df.to_csv('Demo1.csv')"
      ],
      "execution_count": null,
      "outputs": []
    },
    {
      "cell_type": "code",
      "metadata": {
        "id": "Fu0DW5MaM7U6",
        "colab_type": "code",
        "colab": {
          "base_uri": "https://localhost:8080/",
          "height": 34
        },
        "outputId": "40af30d7-c4ce-4d0f-fe09-f1badc02bda8"
      },
      "source": [
        "import csv\n",
        "\n",
        "X = pd.read_csv('Demo1.csv')\n",
        "\n",
        "X=X.iloc[:,0:45]\n",
        "X.shape"
      ],
      "execution_count": null,
      "outputs": [
        {
          "output_type": "execute_result",
          "data": {
            "text/plain": [
              "(1572, 45)"
            ]
          },
          "metadata": {
            "tags": []
          },
          "execution_count": 4
        }
      ]
    },
    {
      "cell_type": "code",
      "metadata": {
        "id": "rySA3_I-Gy_p",
        "colab_type": "code",
        "colab": {
          "base_uri": "https://localhost:8080/",
          "height": 68
        },
        "outputId": "eeab69e0-a346-4842-a8eb-ad0fb0e1cb90"
      },
      "source": [
        "import numpy as np\n",
        "arr=np.array([])\n",
        "for i in range(0, len(X)):\n",
        "  if (X['Type'][i] == \"MSG\"):\n",
        "    arr=np.append(arr,[i],axis=0)\n",
        "arr = np.append(arr, [len(X)], axis=0)\n",
        "print(arr)\n",
        "len(arr)"
      ],
      "execution_count": null,
      "outputs": [
        {
          "output_type": "stream",
          "text": [
            "[   0.  271.  893. 1119. 1385. 1467. 1473. 1496. 1505. 1511. 1517. 1525.\n",
            " 1532. 1540. 1550. 1560. 1572.]\n"
          ],
          "name": "stdout"
        },
        {
          "output_type": "execute_result",
          "data": {
            "text/plain": [
              "17"
            ]
          },
          "metadata": {
            "tags": []
          },
          "execution_count": 5
        }
      ]
    },
    {
      "cell_type": "code",
      "metadata": {
        "id": "srcGObmwLshf",
        "colab_type": "code",
        "colab": {
          "base_uri": "https://localhost:8080/",
          "height": 34
        },
        "outputId": "6d6dbda4-cbcb-467d-a6f5-5abab23155ca"
      },
      "source": [
        "participantnumber = input(\"Enter the partcipant number\")"
      ],
      "execution_count": null,
      "outputs": [
        {
          "output_type": "stream",
          "text": [
            "Enter the partcipant number42\n"
          ],
          "name": "stdout"
        }
      ]
    },
    {
      "cell_type": "code",
      "metadata": {
        "id": "yGbzrRfVGzMX",
        "colab_type": "code",
        "colab": {}
      },
      "source": [
        "k=1\n",
        "for i in range(len(arr) - 1):\n",
        "  df1 = pd.DataFrame()\n",
        "  o =int(arr[i])\n",
        "  j = int(arr[i+1])\n",
        "  df1 = X.iloc[o+1:j, 1:]\n",
        "  df1.to_csv(\"Participant%sTrial%s.csv\" %(participantnumber ,k))\n",
        "  k = k+1"
      ],
      "execution_count": null,
      "outputs": []
    }
  ]
}